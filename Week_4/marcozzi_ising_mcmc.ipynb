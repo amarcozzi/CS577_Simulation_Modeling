{
 "cells": [
  {
   "cell_type": "code",
   "execution_count": 1,
   "metadata": {},
   "outputs": [],
   "source": [
    "import numpy as np\n",
    "import matplotlib.pyplot as plt"
   ]
  },
  {
   "cell_type": "markdown",
   "metadata": {},
   "source": [
    "## Code for Ising with Metropolis-Hastings below ###"
   ]
  },
  {
   "cell_type": "code",
   "execution_count": 5,
   "metadata": {},
   "outputs": [],
   "source": [
    "class IsingMCMC:\n",
    "    def __init__(self, N, T=2.0):\n",
    "        self.critical_temperature = 2.0 / np.log(1.0 + np.sqrt(2.0))\n",
    "        self.temp = T\n",
    "        self.N = N\n",
    "        self.lattice = np.zeros([self.N, self.N])\n",
    "\n",
    "        # Initialize accumulators to 0\n",
    "        self.energy = 0\n",
    "        self.energy_accum = 0\n",
    "        self.energy_squared_accum = 0\n",
    "        self.mag = 0\n",
    "        self.mag_accum = 0\n",
    "        self.mag_squared_accum = 0\n",
    "\n",
    "        # Initialize lists to store raw data over time (aka monte carlo steps)\n",
    "        self.energy_data = list()\n",
    "        self.mag_data = list()\n",
    "\n",
    "        self.mcs = 0\n",
    "        self.accepted_moves = 0\n",
    "        self.w = np.zeros(9)\n",
    "\n",
    "    def initialize_system(self):\n",
    "        \"\"\" Initializes a lattice of size N x N to all ones (aka spin up) \"\"\"\n",
    "        self.lattice = np.ones([self.N, self.N])  # all spins up\n",
    "        self.mag = self.N * self.N  # sum of spins\n",
    "        self.energy = -2 * self.N * self.N  # minimum energy\n",
    "        self._reset_data()\n",
    "\n",
    "        # Boltzmann factors for some reason?\n",
    "        self.w[8] = np.exp(-8.0 / self.temp)\n",
    "        self.w[4] = np.exp(-4.0 / self.temp)\n",
    "\n",
    "    def _reset_data(self):\n",
    "        \"\"\" Not sure why this is necessary, like many things in modern life, but here we are! \"\"\"\n",
    "        self.mcs = 0\n",
    "        self.energy_accum = 0\n",
    "        self.energy_squared_accum = 0\n",
    "        self.mag_accum = 0\n",
    "        self.mag_squared_accum = 0\n",
    "        self.energy_data = list()\n",
    "        self.mag_data = list()\n",
    "        self.accepted_moves = 0\n",
    "\n",
    "    def specific_heat(self):\n",
    "        \"\"\" Computes the specific heat of the system \"\"\"\n",
    "        energy_squared_avg = self.energy_squared_accum / self.mcs\n",
    "        energy_avg = self.energy_accum / self.mcs\n",
    "        heat_capacity = energy_squared_avg - energy_avg * energy_avg\n",
    "        heat_capacity /= (self.temp * self.temp)\n",
    "        return heat_capacity\n",
    "\n",
    "    def susceptibility(self):\n",
    "        \"\"\" Computes the susceptibility [?] of the system \"\"\"\n",
    "        mag_squared_avg = self.mag_squared_accum / self.mcs\n",
    "        mag_avg = self.mag_accum / self.mcs\n",
    "        return (mag_squared_avg - np.square(mag_avg)) / (self.temp * self.N)\n",
    "\n",
    "    def do_one_MC_step(self):\n",
    "        \"\"\" Applies the demon algorithm to the heat bath with an embedded ising model \"\"\"\n",
    "        # Loop over N^2 iterations for each MC step\n",
    "        for k in range(self.N * self.N):\n",
    "            x, y = self._pick_random_site()\n",
    "            # Flip the spin and compute the change in energy, delta E\n",
    "            dE = self._compute_change_energy((x, y))\n",
    "\n",
    "            # Accept the flip and update the lattice, energy, and magnetisation\n",
    "            if dE <= 0 or self.w[int(dE)] > np.random.random():\n",
    "                new_spin = -self.lattice[y, x]\n",
    "                self.lattice[y, x] = new_spin\n",
    "                self.accepted_moves += 1\n",
    "                self.energy += dE\n",
    "                self.mag += 2 * new_spin\n",
    "\n",
    "        # Update accumulators\n",
    "        self.energy_accum += self.energy\n",
    "        self.energy_squared_accum += self.energy * self.energy\n",
    "        self.mag_accum += self.mag\n",
    "        self.mag_squared_accum += self.mag * self.mag\n",
    "\n",
    "        # Add values to data storage lists\n",
    "        self.energy_data.append(self.energy)\n",
    "        self.mag_data.append(self.mag)\n",
    "\n",
    "        self.mcs += 1\n",
    "\n",
    "    def _compute_change_energy(self, point):\n",
    "        \"\"\" Computes the energy at any point on the lattice \"\"\"\n",
    "        x, y = point\n",
    "        nn = self._sum_nearest_neighbors(point)\n",
    "        return 2 * self.lattice[y, x] * nn\n",
    "\n",
    "    def _sum_nearest_neighbors(self, point):\n",
    "        \"\"\" Computes the nearest neighbors of a point \"\"\"\n",
    "        x, y = point\n",
    "        right = self.lattice[y, (x + 1) % self.N]\n",
    "        left = self.lattice[y, (x - 1) % self.N]\n",
    "        up = self.lattice[(y - 1) % self.N, x]\n",
    "        down = self.lattice[(y + 1) % self.N, x]\n",
    "\n",
    "        return right + left + up + down\n",
    "\n",
    "    def _pick_random_site(self):\n",
    "        \"\"\" Returns a random point on the lattice \"\"\"\n",
    "        i = np.random.randint(0, self.N)\n",
    "        j = np.random.randint(0, self.N)\n",
    "        return i, j"
   ]
  },
  {
   "cell_type": "markdown",
   "metadata": {},
   "source": [
    "## Problem 15.12. Equilibration of the two-dimensional Ising model ##"
   ]
  },
  {
   "cell_type": "code",
   "execution_count": 6,
   "metadata": {},
   "outputs": [],
   "source": [
    "# Begin by running an Ising MCMC model to equilibrum\n",
    "model = IsingMCMC(N=32, T=2.0)\n",
    "model.initialize_system()\n",
    "for k in range(5000):\n",
    "    model.do_one_MC_step()"
   ]
  },
  {
   "cell_type": "markdown",
   "metadata": {},
   "source": [
    "### (a) Write a target class that uses class Ising and plots the magnetization and energy as a function of the number of Monte Carlo steps. ###"
   ]
  },
  {
   "cell_type": "code",
   "execution_count": 7,
   "metadata": {},
   "outputs": [
    {
     "data": {
      "image/png": "[encoded data removed]",
      "text/plain": [
       "<Figure size 432x288 with 1 Axes>"
      ]
     },
     "metadata": {
      "needs_background": "light"
     },
     "output_type": "display_data"
    },
    {
     "data": {
      "image/png": "[encoded data removed]",
      "text/plain": [
       "<Figure size 432x288 with 1 Axes>"
      ]
     },
     "metadata": {
      "needs_background": "light"
     },
     "output_type": "display_data"
    }
   ],
   "source": [
    "plt.plot(range(model.mcs), model.energy_data, lw=3)\n",
    "plt.show()\n",
    "\n",
    "plt.plot(range(model.mcs), model.mag_data, lw=3)\n",
    "plt.show()"
   ]
  },
  {
   "cell_type": "markdown",
   "metadata": {},
   "source": [
    "### (a) Your program should also display the mean magnetization, the energy, the specific heat, the susceptibility, and the acceptance probability when the simulation is stopped.  ###"
   ]
  },
  {
   "cell_type": "code",
   "execution_count": 23,
   "metadata": {},
   "outputs": [
    {
     "name": "stdout",
     "output_type": "stream",
     "text": [
      "Mean energy: -1.7456375\n",
      "Mean magnetisation: 0.910104296875\n",
      "Specific Heat: 724.3422310400056\n",
      "Susceptibility: 14.973668277498291\n",
      "Accepted Prob: 0.079335546875\n"
     ]
    }
   ],
   "source": [
    "# Averages such as the mean energy and the susceptibility should be \n",
    "# normalized by the number of spins so that it is easy to compare \n",
    "# systems with different values of N .\n",
    "mean_energy = model.energy_accum / (model.N**2 * model.mcs)\n",
    "mean_mag = model.mag_accum / (model.N**2 * model.mcs)\n",
    "specific_heat = model.specific_heat()\n",
    "susceptibility = model.susceptibility()\n",
    "accepted_prob = model.accepted_moves / (model.N**2 * model.mcs)\n",
    "\n",
    "print(f'Mean energy: {mean_energy:010}')\n",
    "print(f'Mean magnetisation: {mean_mag:010}')\n",
    "print(f'Specific Heat: {specific_heat:010}')\n",
    "print(f'Susceptibility: {susceptibility:010}')\n",
    "print(f'Accepted Prob: {accepted_prob:010}')"
   ]
  },
  {
   "cell_type": "markdown",
   "metadata": {},
   "source": [
    "### (a) Estimate the time needed to equilibrate the system given that all the spins are initially up. ### "
   ]
  },
  {
   "cell_type": "markdown",
   "metadata": {},
   "source": [
    "### (b) Visually determine if the spin configurations are “ordered” or “disordered” at T = 2 after equilibrium has been established.  ###"
   ]
  },
  {
   "cell_type": "code",
   "execution_count": 25,
   "metadata": {},
   "outputs": [
    {
     "data": {
      "image/png": "[encoded data removed]",
      "text/plain": [
       "<Figure size 720x576 with 1 Axes>"
      ]
     },
     "metadata": {
      "needs_background": "light"
     },
     "output_type": "display_data"
    }
   ],
   "source": [
    "fig, ax = plt.subplots(figsize=(10, 8))\n",
    "im = ax.imshow(model.lattice, cmap='Greys')\n",
    "ax.set_title('System')\n",
    "plt.show()"
   ]
  },
  {
   "cell_type": "code",
   "execution_count": null,
   "metadata": {},
   "outputs": [],
   "source": []
  }
 ],
 "metadata": {
  "kernelspec": {
   "display_name": "Python 3",
   "language": "python",
   "name": "python3"
  },
  "language_info": {
   "codemirror_mode": {
    "name": "ipython",
    "version": 3
   },
   "file_extension": ".py",
   "mimetype": "text/x-python",
   "name": "python",
   "nbconvert_exporter": "python",
   "pygments_lexer": "ipython3",
   "version": "3.7.4"
  }
 },
 "nbformat": 4,
 "nbformat_minor": 2
}
