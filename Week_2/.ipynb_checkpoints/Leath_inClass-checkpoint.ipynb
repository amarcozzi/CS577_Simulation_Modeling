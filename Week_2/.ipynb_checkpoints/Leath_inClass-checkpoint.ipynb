{
 "cells": [
  {
   "cell_type": "code",
   "execution_count": null,
   "metadata": {},
   "outputs": [],
   "source": [
    "import numpy as np\n",
    "class Leath():\n",
    "    def __init__(self,N=80,p=.6):\n",
    "        self.N = N\n",
    "        self.p = p\n",
    "        self.perimeter = {}\n",
    "        self.cluster = {(N//2,N//2):True}\n",
    "        self.world = np.zeros((N,N),dtype=np.int8)\n",
    "        \n",
    "    def add_perimeter(self,pt):\n",
    "        \"\"\"\n",
    "        Given a point pt (tuple),\n",
    "        add to a perimeter all 4 nearest\n",
    "        neighbors that are not already in\n",
    "        the cluster.\n",
    "        \"\"\"\n",
    "        nn = [(pt[0]+1,pt[1]),(pt[0]-1,pt[1]),\\\n",
    "             (pt[0],pt[1]+1),(pt[0],pt[1]-1)]\n",
    "        \n",
    "        for p in nn:\n",
    "            if p not in self.cluster and p not in self.perimeter:\n",
    "                self.perimeter[p] = True\n",
    "        \n",
    "            \n",
    "    def grow_cluster(self):\n",
    "        \"\"\"\n",
    "        Iterate through each point in perimeter\n",
    "        if uniform random [0,1] is less than p\n",
    "        add perimeter point to cluster.\n",
    "        Else mark point as inaccessible.\n",
    "        Do something to keep cluster from leaving domain.\n",
    "        \"\"\"\n",
    "        new_cluster_pts = []\n",
    "        for pt in self.perimeter:\n",
    "            if self.perimeter[pt] and self.p >= np.random.rand():\n",
    "                self.cluster[pt]=True\n",
    "                new_cluster_pts.apend(pt)\n",
    "            else:\n",
    "                # mark that perimeter point as False"
   ]
  }
 ],
 "metadata": {
  "kernelspec": {
   "display_name": "Python 3",
   "language": "python",
   "name": "python3"
  },
  "language_info": {
   "codemirror_mode": {
    "name": "ipython",
    "version": 3
   },
   "file_extension": ".py",
   "mimetype": "text/x-python",
   "name": "python",
   "nbconvert_exporter": "python",
   "pygments_lexer": "ipython3",
   "version": "3.7.4"
  }
 },
 "nbformat": 4,
 "nbformat_minor": 4
}
