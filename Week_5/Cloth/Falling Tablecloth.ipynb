{
 "cells": [
  {
   "cell_type": "markdown",
   "metadata": {},
   "source": [
    "# Falling Tablecloth\n",
    "\n",
    "From our understanding of the Ising model, where we sampled the complex space of spins using the Metropolis-Hastings algorithm, we branch in two directions: 1) estimating probability distribution functions, and 2) simulated annealing. This example is drawn from the second, an optimization of a high-dimensional function using methods that are similar to the physics of slowly cooling hot matter. In spite of it seeming a stretch, it is closer to our Ising model than is the first, which requires generalization of the Boltzmann function and understanding of Bayes Theorem.\n",
    "\n",
    "At a high level, the idea of simulated annealing is to take system that has many degrees of freedom, perturb one at random, and see how the energy changes as a result. The high degrees of freedom is important, there are many superior ways of optimizing functions of just a few variables. If the random change produces a lower energy ($\\Delta E < 0$), accept the change, if the energy increases accept it with a probability proportional to the Boltzmann distribution; accept $\\propto e^{-\\frac{\\Delta E}{kT}}$. Sound familiar? It should. When we apply this to a function, it's called ''simulated annealing'' because we find the minimum from 'cooling' the system. This suggests that now, in addition to accepting or rejecting proposals with the Boltzmann distribution, we also decrease $kT$, trying to allow the system to find its way to a lowest energy configuration.\n",
    "\n",
    "To grasp the concept, maybe it will be easier to do this yourself. The following problem asks you to find the shape of a cloth that is supported at its corners, and is under the influence of gravity. The result has a nice visual interpretation that will aid your inquiry because you'll know what looks right.\n",
    "\n",
    "#### The Change in Energy\n",
    "As with any problem of this type, we begin by specifying an energy. Here, we imagine the tablecloth consists of lattice of masses connected by springs. All masses and spring are the same. The springs have an equilibrium length (length where springs exert no force) of $l$ and a spring constant $k$. If we move a particular particle a random amount $\\Delta \\mathbf{r} = (\\Delta x, \\Delta y, \\Delta z)$ we get a new position $\\mathbf{r}' = \\mathbf{r} + \\Delta\\mathbf{r}$. The change in energy is computed from changes in spring lengths caused by moving the particle with respect to its four nearest neighbors, as well as changes in gravitational potential,\n",
    "$$ \\Delta E = -\\frac{1}{2}k \\sum_{i = nn} [(d'_i -l)^2 - (d_i-l)^2] + mg\\Delta z.$$\n",
    "Where $d'_i = |\\mathbf{r}' - \\mathbf{r}_i|$, the distance of the perturbed position and nearest neighbor $i$, and $d_i = |\\mathbf{r} - \\mathbf{r}_i|$ is the distance between the unperturbed particle and its neighbor $i$. The gravitational potential energy, or $mg\\Delta z$ is included outside the sum as an additional term.\n",
    "\n",
    "#### Problem Statement\n",
    "Simulate the hanging tablecloth problem, and find the minimum energy by thermal relaxation. Assume that each of the four corners of the cloth are fixed at the same $z$ for the entire simulation and that the cloth is square.\n",
    "\n",
    "a) Design a Metropolis updater using the formula above to find $\\Delta E$. Monitor the energy as a function of MCMC steps. Assume the initial energy is zero, and keep track of total energy by summing the accepted $\\Delta E$s. The shape of this curve should be evaluated to find when the function is minimized.\n",
    "\n",
    "Convergence can be improved by selecting only a single direction to perturb in, and sampling more frequently in the $z$ direction, where potential energy can have a large impact on $\\Delta E$. So, 25% of the time perturb in the $x$ direction, 25% in the $y$, and 50% in the $z$. The perturbations are going to be in space, and some normal distribution is the right choice. Let's increase the perturbation distribution by a factor of two in the $z$ direction so it is explored more aggressively. Something like the following in code:"
   ]
  },
  {
   "cell_type": "code",
   "execution_count": 6,
   "metadata": {},
   "outputs": [],
   "source": [
    "import numpy as np\n",
    "sigma = .25 # A choice of standard deviation for the random perturbations.\n",
    "dx,dy,dz = 0,0,0\n",
    "p = np.random.rand()\n",
    "if p<.25:\n",
    "    dx = np.random.randn() * sigma\n",
    "elif p<.5:\n",
    "    dy = np.random.randn() * sigma\n",
    "else:\n",
    "    dz = np.random.randn() * 2 * sigma"
   ]
  },
  {
   "cell_type": "markdown",
   "metadata": {},
   "source": [
    "So that we all agree on the results, let's have the following set of values for $N$, $k$, $l$, $m$, $\\sigma$, $g$, and $kT$."
   ]
  },
  {
   "cell_type": "code",
   "execution_count": 1,
   "metadata": {},
   "outputs": [],
   "source": [
    "N = 16 # Number of masses per side.\n",
    "k=50   # Spring constant\n",
    "l=1    # Spring equilibrium length\n",
    "m=.04  # Mass, almost looks like a density in the limit of N -> inf\n",
    "sigma = .25*l  # This is standard deviation of the gaussian region sampled for perturbations.\n",
    "g = 9.8        # graviational acceleration, note sign!\n",
    "kT = 1e-3      # Temparature appearing in Boltzmann factor, this should be changed through runs."
   ]
  },
  {
   "cell_type": "markdown",
   "metadata": {},
   "source": [
    "Run the simulation to equilibrium and plot the result. Try the `plot_wireframe` function. Begin with all positions of masses seperated by $l$ from nearest neighbors, and having the same $z$ coordinate. \n",
    "\n",
    "How did you determine the system was in equilibrium? Add this function to your code.\n",
    "\n",
    "Repeat the experiment, but now include a ''cooling schedule''. Try halving the temperature each time the system reaches equilibrium. Do three successive halvings. Plot the different final configurations and comment on their differences.\n",
    "\n",
    "(b) Plot the energy per particle vs the temperature at various lattice sizes. Explain what you find."
   ]
  },
  {
   "cell_type": "code",
   "execution_count": null,
   "metadata": {},
   "outputs": [],
   "source": [
    "class Cloth():\n",
    "    def __init__():\n",
    "        \n",
    "    def do_mcmc_step(self):\n",
    "        for i in range(self.L**2):\n",
    "            dE,pt,dr = self.perturb()\n",
    "            if dE<0 or np.random.rand() < np.exp(-dE/self.kT):\n",
    "                self.cloth[pt[0],pt[1],:] += dr\n",
    "                self.E += dE\n",
    "            self.step += 1\n",
    "            \n",
    "    def calc_dE(self,pt,dr):\n",
    "        # prep lists, write new function to get nn\n",
    "        # nn = nearest neighbors - can be 3 or 4 in list\n",
    "        # prep vectors by pulling them out of self.cloth\n",
    "        # see sum in delta E\n",
    "        for n in nn:\n",
    "            term1 = (np.linalg.norm(rp-nr)-self.l)**2\n",
    "            # rp = r prime the perturbed postition\n",
    "            # nr = neighbor r\n",
    "            term2 = # unperturbed distance to \n",
    "        # multiply by -.5*k\n",
    "        # add mg dz"
   ]
  }
 ],
 "metadata": {
  "kernelspec": {
   "display_name": "Python 3",
   "language": "python",
   "name": "python3"
  },
  "language_info": {
   "codemirror_mode": {
    "name": "ipython",
    "version": 3
   },
   "file_extension": ".py",
   "mimetype": "text/x-python",
   "name": "python",
   "nbconvert_exporter": "python",
   "pygments_lexer": "ipython3",
   "version": "3.9.1"
  }
 },
 "nbformat": 4,
 "nbformat_minor": 4
}
