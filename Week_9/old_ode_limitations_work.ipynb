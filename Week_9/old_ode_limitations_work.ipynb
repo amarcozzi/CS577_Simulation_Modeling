{
 "cells": [
  {
   "cell_type": "markdown",
   "metadata": {},
   "source": [
    "## Using the N-Body Method\n",
    "\n",
    "Having written an n-body right hand side function and bound the gravitational acceleration, lets try it out!\n",
    "\n",
    "Begin by resurrecting your ode code and doing some runs with initial conditions provided below. We know our best bet will be the Euler-Richardson algorithm. Integrate through 100 time units and plot the result.\n",
    "\n",
    "I've left plotting code to save you some time with that.\n",
    "\n",
    "For each of the initial conditions, find the maximum allowable time step the allows visually acceptable repeating orbits for 100 time steps. Record those time steps for future reference.\n",
    "\n",
    "After completing that exercise, implement the fourth order Runge Kutta algorithm as part of your ODE solving function and repeat the above exercise. Are you doing better in terms of time steps? What about the number of function calls.\n",
    "\n",
    "**Note:** I've tried to save you the hassle of writing plotting code. I figure you've done enough of that this semester. The problem is, I don't think mine is especially tidy. If you feel like replacing mine with something better, by all means, go for it.\n",
    "\n",
    "### Runge Kutta\n",
    "\n",
    "The simplest but steadiest performance can be realized with the *fourth order Runge-Kutta* integration methods. The following equations haver errors of order $\\mathcal{O}(\\Delta t^5)$. They can be expressed as.\n",
    "\n",
    "$$\n",
    "\\begin{align}\n",
    "k_1 &=& &\\Delta t f(t_n,y_n)\\\\\n",
    "k_2 &=& &\\Delta t f(t_n + \\frac{1}{2}\\Delta t,y_n + \\frac{1}{2} k_1)\\\\\n",
    "k_3 &=& &\\Delta t f(t_n + \\frac{1}{2}\\Delta t,y_n + \\frac{1}{2} k_2)\\\\\n",
    "k_4 &=& &\\Delta t f(t_n + \\frac{1}{2}\\Delta t,y_n +  k_3)\n",
    "\\end{align}\n",
    "$$\n",
    "\n",
    "$$y_{n+1} = y_n + \\frac{1}{6} k_1 + \\frac{1}{3} k_2 + \\frac{1}{3} k_3 + \\frac{1}{6} k_4 $$"
   ]
  },
  {
   "cell_type": "code",
   "execution_count": 2,
   "metadata": {},
   "outputs": [],
   "source": [
    "import numpy as np\n",
    "\n",
    "from ode_solver import ODESolver\n",
    "from n_body_working import *\n",
    "import matplotlib.pyplot as plt\n",
    "from matplotlib import animation,rc\n",
    "from IPython.display import HTML\n",
    "\n",
    "#TODO: Find the dts that make the following ICs stable\n",
    "# Order is all coordinates then all velocities in groups by mass:\n",
    "# x1,y1,x2,y2,x3,y3,vx1,vy1,vx2,vy2,etc\n",
    "euler      = np.array([0,0,1,0,-1,0,0,0,0,.8,0,-.8])\n",
    "\n",
    "montgomery = np.array([0.97000436,-0.24308753,-0.97000436,0.24308753, 0., 0.,\n",
    "                    0.466203685, 0.43236573, 0.466203685, 0.43236573,\n",
    "                   -0.93240737,-0.86473146])\n",
    "lagrange   = np.array([1.,0.,-0.5,0.866025403784439, -0.5,-0.866025403784439,\n",
    "                  0.,0.8,-0.692820323027551,-0.4, 0.692820323027551, -0.4])\n",
    "\n",
    "p3 = {'m':[1,1,1],'G':1,'dimension':2, 'fix_first':False}"
   ]
  },
  {
   "cell_type": "markdown",
   "metadata": {},
   "source": [
    "# Euler Initial Conditions #"
   ]
  },
  {
   "cell_type": "code",
   "execution_count": 3,
   "metadata": {},
   "outputs": [
    {
     "ename": "KeyError",
     "evalue": "'force'",
     "output_type": "error",
     "traceback": [
      "\u001b[0;31m---------------------------------------------------------------------------\u001b[0m",
      "\u001b[0;31mKeyError\u001b[0m                                  Traceback (most recent call last)",
      "\u001b[0;32m<ipython-input-3-4bac0d677235>\u001b[0m in \u001b[0;36m<module>\u001b[0;34m\u001b[0m\n\u001b[1;32m      9\u001b[0m \u001b[0;34m\u001b[0m\u001b[0m\n\u001b[1;32m     10\u001b[0m \u001b[0msolver\u001b[0m \u001b[0;34m=\u001b[0m \u001b[0mODESolver\u001b[0m\u001b[0;34m(\u001b[0m\u001b[0;34m)\u001b[0m\u001b[0;34m\u001b[0m\u001b[0;34m\u001b[0m\u001b[0m\n\u001b[0;32m---> 11\u001b[0;31m \u001b[0mt_s\u001b[0m\u001b[0;34m,\u001b[0m\u001b[0my\u001b[0m \u001b[0;34m=\u001b[0m \u001b[0msolver\u001b[0m\u001b[0;34m.\u001b[0m\u001b[0msolve_ode\u001b[0m\u001b[0;34m(\u001b[0m\u001b[0mn_body\u001b[0m\u001b[0;34m,\u001b[0m\u001b[0mt_span\u001b[0m\u001b[0;34m,\u001b[0m \u001b[0my0\u001b[0m\u001b[0;34m,\u001b[0m \u001b[0msolver\u001b[0m\u001b[0;34m.\u001b[0m\u001b[0mEulerRichardson\u001b[0m\u001b[0;34m,\u001b[0m \u001b[0mp\u001b[0m\u001b[0;34m,\u001b[0m\u001b[0mfirst_step\u001b[0m\u001b[0;34m=\u001b[0m\u001b[0mdt\u001b[0m\u001b[0;34m)\u001b[0m\u001b[0;34m\u001b[0m\u001b[0;34m\u001b[0m\u001b[0m\n\u001b[0m\u001b[1;32m     12\u001b[0m \u001b[0;34m\u001b[0m\u001b[0m\n\u001b[1;32m     13\u001b[0m \u001b[0mfig\u001b[0m \u001b[0;34m=\u001b[0m \u001b[0mplt\u001b[0m\u001b[0;34m.\u001b[0m\u001b[0mfigure\u001b[0m\u001b[0;34m(\u001b[0m\u001b[0mfigsize\u001b[0m\u001b[0;34m=\u001b[0m\u001b[0;34m(\u001b[0m\u001b[0;36m5\u001b[0m\u001b[0;34m,\u001b[0m\u001b[0;36m5\u001b[0m\u001b[0;34m)\u001b[0m\u001b[0;34m)\u001b[0m\u001b[0;34m\u001b[0m\u001b[0;34m\u001b[0m\u001b[0m\n",
      "\u001b[0;32m~/CompSci/UMontana/2021_Spring/CS577/Week_9/ode_solver.py\u001b[0m in \u001b[0;36msolve_ode\u001b[0;34m(self, f, tspan, y0, method, *args, **options)\u001b[0m\n\u001b[1;32m    180\u001b[0m             \u001b[0mcurrent_t\u001b[0m \u001b[0;34m=\u001b[0m \u001b[0mt\u001b[0m\u001b[0;34m[\u001b[0m\u001b[0;34m-\u001b[0m\u001b[0;36m1\u001b[0m\u001b[0;34m]\u001b[0m\u001b[0;34m\u001b[0m\u001b[0;34m\u001b[0m\u001b[0m\n\u001b[1;32m    181\u001b[0m             \u001b[0;31m# Compute change in t and change in position y at each time step\u001b[0m\u001b[0;34m\u001b[0m\u001b[0;34m\u001b[0m\u001b[0;34m\u001b[0m\u001b[0m\n\u001b[0;32m--> 182\u001b[0;31m             \u001b[0mnew_y\u001b[0m\u001b[0;34m,\u001b[0m \u001b[0mdt\u001b[0m \u001b[0;34m=\u001b[0m \u001b[0mmethod\u001b[0m\u001b[0;34m(\u001b[0m\u001b[0my\u001b[0m\u001b[0;34m[\u001b[0m\u001b[0;34m-\u001b[0m\u001b[0;36m1\u001b[0m\u001b[0;34m]\u001b[0m\u001b[0;34m,\u001b[0m \u001b[0mdt\u001b[0m\u001b[0;34m,\u001b[0m \u001b[0mf\u001b[0m\u001b[0;34m,\u001b[0m \u001b[0mt\u001b[0m\u001b[0;34m[\u001b[0m\u001b[0;34m-\u001b[0m\u001b[0;36m1\u001b[0m\u001b[0;34m]\u001b[0m\u001b[0;34m,\u001b[0m \u001b[0;34m*\u001b[0m\u001b[0margs\u001b[0m\u001b[0;34m,\u001b[0m \u001b[0;34m**\u001b[0m\u001b[0moptions\u001b[0m\u001b[0;34m)\u001b[0m\u001b[0;34m\u001b[0m\u001b[0;34m\u001b[0m\u001b[0m\n\u001b[0m\u001b[1;32m    183\u001b[0m             \u001b[0my\u001b[0m\u001b[0;34m.\u001b[0m\u001b[0mappend\u001b[0m\u001b[0;34m(\u001b[0m\u001b[0mnew_y\u001b[0m\u001b[0;34m)\u001b[0m\u001b[0;34m\u001b[0m\u001b[0;34m\u001b[0m\u001b[0m\n\u001b[1;32m    184\u001b[0m             \u001b[0mt\u001b[0m\u001b[0;34m.\u001b[0m\u001b[0mappend\u001b[0m\u001b[0;34m(\u001b[0m\u001b[0mt\u001b[0m\u001b[0;34m[\u001b[0m\u001b[0;34m-\u001b[0m\u001b[0;36m1\u001b[0m\u001b[0;34m]\u001b[0m \u001b[0;34m+\u001b[0m \u001b[0mdt\u001b[0m\u001b[0;34m)\u001b[0m\u001b[0;34m\u001b[0m\u001b[0;34m\u001b[0m\u001b[0m\n",
      "\u001b[0;32m~/CompSci/UMontana/2021_Spring/CS577/Week_9/ode_solver.py\u001b[0m in \u001b[0;36mEulerRichardson\u001b[0;34m(self, y, dt, f, t, *args, **options)\u001b[0m\n\u001b[1;32m     25\u001b[0m     \u001b[0;32mdef\u001b[0m \u001b[0mEulerRichardson\u001b[0m\u001b[0;34m(\u001b[0m\u001b[0mself\u001b[0m\u001b[0;34m,\u001b[0m \u001b[0my\u001b[0m\u001b[0;34m,\u001b[0m \u001b[0mdt\u001b[0m\u001b[0;34m,\u001b[0m \u001b[0mf\u001b[0m\u001b[0;34m,\u001b[0m \u001b[0mt\u001b[0m\u001b[0;34m,\u001b[0m \u001b[0;34m*\u001b[0m\u001b[0margs\u001b[0m\u001b[0;34m,\u001b[0m \u001b[0;34m**\u001b[0m\u001b[0moptions\u001b[0m\u001b[0;34m)\u001b[0m\u001b[0;34m:\u001b[0m\u001b[0;34m\u001b[0m\u001b[0;34m\u001b[0m\u001b[0m\n\u001b[1;32m     26\u001b[0m         \u001b[0;34m\"\"\" Computes the change in state via the Euler-Richardson method \"\"\"\u001b[0m\u001b[0;34m\u001b[0m\u001b[0;34m\u001b[0m\u001b[0m\n\u001b[0;32m---> 27\u001b[0;31m         \u001b[0my_mid\u001b[0m\u001b[0;34m,\u001b[0m \u001b[0mnada\u001b[0m \u001b[0;34m=\u001b[0m \u001b[0mself\u001b[0m\u001b[0;34m.\u001b[0m\u001b[0mEuler\u001b[0m\u001b[0;34m(\u001b[0m\u001b[0my\u001b[0m\u001b[0;34m,\u001b[0m \u001b[0mdt\u001b[0m \u001b[0;34m/\u001b[0m \u001b[0;36m2\u001b[0m\u001b[0;34m,\u001b[0m \u001b[0mf\u001b[0m\u001b[0;34m,\u001b[0m \u001b[0mt\u001b[0m\u001b[0;34m,\u001b[0m \u001b[0;34m*\u001b[0m\u001b[0margs\u001b[0m\u001b[0;34m)\u001b[0m\u001b[0;34m\u001b[0m\u001b[0;34m\u001b[0m\u001b[0m\n\u001b[0m\u001b[1;32m     28\u001b[0m         \u001b[0my_computed\u001b[0m \u001b[0;34m=\u001b[0m \u001b[0mf\u001b[0m\u001b[0;34m(\u001b[0m\u001b[0mt\u001b[0m \u001b[0;34m+\u001b[0m \u001b[0mdt\u001b[0m \u001b[0;34m/\u001b[0m \u001b[0;36m2\u001b[0m\u001b[0;34m,\u001b[0m \u001b[0my_mid\u001b[0m\u001b[0;34m,\u001b[0m \u001b[0;34m*\u001b[0m\u001b[0margs\u001b[0m\u001b[0;34m)\u001b[0m \u001b[0;34m*\u001b[0m \u001b[0mdt\u001b[0m \u001b[0;34m+\u001b[0m \u001b[0my\u001b[0m\u001b[0;34m\u001b[0m\u001b[0;34m\u001b[0m\u001b[0m\n\u001b[1;32m     29\u001b[0m         \u001b[0mself\u001b[0m\u001b[0;34m.\u001b[0m\u001b[0mnum_f_calls\u001b[0m \u001b[0;34m+=\u001b[0m \u001b[0;36m1\u001b[0m  \u001b[0;31m# Increment the number of function calls\u001b[0m\u001b[0;34m\u001b[0m\u001b[0;34m\u001b[0m\u001b[0m\n",
      "\u001b[0;32m~/CompSci/UMontana/2021_Spring/CS577/Week_9/ode_solver.py\u001b[0m in \u001b[0;36mEuler\u001b[0;34m(self, y, dt, f, t, *args, **options)\u001b[0m\n\u001b[1;32m     12\u001b[0m     \u001b[0;32mdef\u001b[0m \u001b[0mEuler\u001b[0m\u001b[0;34m(\u001b[0m\u001b[0mself\u001b[0m\u001b[0;34m,\u001b[0m \u001b[0my\u001b[0m\u001b[0;34m,\u001b[0m \u001b[0mdt\u001b[0m\u001b[0;34m,\u001b[0m \u001b[0mf\u001b[0m\u001b[0;34m,\u001b[0m \u001b[0mt\u001b[0m\u001b[0;34m,\u001b[0m \u001b[0;34m*\u001b[0m\u001b[0margs\u001b[0m\u001b[0;34m,\u001b[0m \u001b[0;34m**\u001b[0m\u001b[0moptions\u001b[0m\u001b[0;34m)\u001b[0m\u001b[0;34m:\u001b[0m\u001b[0;34m\u001b[0m\u001b[0;34m\u001b[0m\u001b[0m\n\u001b[1;32m     13\u001b[0m         \u001b[0;34m\"\"\" Computes the change in state via the Euler algorithm \"\"\"\u001b[0m\u001b[0;34m\u001b[0m\u001b[0;34m\u001b[0m\u001b[0m\n\u001b[0;32m---> 14\u001b[0;31m         \u001b[0my_computed\u001b[0m \u001b[0;34m=\u001b[0m \u001b[0mf\u001b[0m\u001b[0;34m(\u001b[0m\u001b[0mt\u001b[0m\u001b[0;34m,\u001b[0m \u001b[0my\u001b[0m\u001b[0;34m,\u001b[0m \u001b[0;34m*\u001b[0m\u001b[0margs\u001b[0m\u001b[0;34m)\u001b[0m \u001b[0;34m*\u001b[0m \u001b[0mdt\u001b[0m \u001b[0;34m+\u001b[0m \u001b[0my\u001b[0m\u001b[0;34m\u001b[0m\u001b[0;34m\u001b[0m\u001b[0m\n\u001b[0m\u001b[1;32m     15\u001b[0m         \u001b[0mself\u001b[0m\u001b[0;34m.\u001b[0m\u001b[0mnum_f_calls\u001b[0m \u001b[0;34m+=\u001b[0m \u001b[0;36m1\u001b[0m  \u001b[0;31m# Increment the number of function calls\u001b[0m\u001b[0;34m\u001b[0m\u001b[0;34m\u001b[0m\u001b[0m\n\u001b[1;32m     16\u001b[0m         \u001b[0;32mreturn\u001b[0m \u001b[0my_computed\u001b[0m\u001b[0;34m,\u001b[0m \u001b[0mdt\u001b[0m\u001b[0;34m\u001b[0m\u001b[0;34m\u001b[0m\u001b[0m\n",
      "\u001b[0;32m~/CompSci/UMontana/2021_Spring/CS577/Week_9/n_body_working.py\u001b[0m in \u001b[0;36mn_body\u001b[0;34m(t, y, p)\u001b[0m\n\u001b[1;32m     35\u001b[0m \u001b[0;34m\u001b[0m\u001b[0m\n\u001b[1;32m     36\u001b[0m             \u001b[0;31m# Compute the force from body j onto body i\u001b[0m\u001b[0;34m\u001b[0m\u001b[0;34m\u001b[0m\u001b[0;34m\u001b[0m\u001b[0m\n\u001b[0;32m---> 37\u001b[0;31m             \u001b[0mFij\u001b[0m \u001b[0;34m=\u001b[0m \u001b[0mp\u001b[0m\u001b[0;34m[\u001b[0m\u001b[0;34m'force'\u001b[0m\u001b[0;34m]\u001b[0m\u001b[0;34m(\u001b[0m\u001b[0mp\u001b[0m\u001b[0;34m[\u001b[0m\u001b[0;34m'G'\u001b[0m\u001b[0;34m]\u001b[0m\u001b[0;34m,\u001b[0m \u001b[0mp\u001b[0m\u001b[0;34m[\u001b[0m\u001b[0;34m'm'\u001b[0m\u001b[0;34m]\u001b[0m\u001b[0;34m[\u001b[0m\u001b[0mi\u001b[0m\u001b[0;34m]\u001b[0m\u001b[0;34m,\u001b[0m \u001b[0mp\u001b[0m\u001b[0;34m[\u001b[0m\u001b[0;34m'm'\u001b[0m\u001b[0;34m]\u001b[0m\u001b[0;34m[\u001b[0m\u001b[0mj\u001b[0m\u001b[0;34m]\u001b[0m\u001b[0;34m,\u001b[0m \u001b[0mrij\u001b[0m\u001b[0;34m)\u001b[0m\u001b[0;34m\u001b[0m\u001b[0;34m\u001b[0m\u001b[0m\n\u001b[0m\u001b[1;32m     38\u001b[0m \u001b[0;34m\u001b[0m\u001b[0m\n\u001b[1;32m     39\u001b[0m             \u001b[0;31m# Fill in the symmetric pieces of the force matrix\u001b[0m\u001b[0;34m\u001b[0m\u001b[0;34m\u001b[0m\u001b[0;34m\u001b[0m\u001b[0m\n",
      "\u001b[0;31mKeyError\u001b[0m: 'force'"
     ]
    }
   ],
   "source": [
    "plt.style.use('dark_background')\n",
    "%matplotlib inline\n",
    "\n",
    "y0 = euler\n",
    "p  = p3\n",
    "d = p['dimension']\n",
    "dt = 0.0025  # This is wrong - figure it out!\n",
    "t_span = [0,100]\n",
    "\n",
    "solver = ODESolver()\n",
    "t_s,y = solver.solve_ode(n_body,t_span, y0, solver.EulerRichardson, p,first_step=dt)\n",
    "\n",
    "fig = plt.figure(figsize=(5,5))\n",
    "ax = fig.add_subplot(111)\n",
    "\n",
    "x_min,x_max,y_min,y_max = 1e9,-1e9,1e9,-1e9\n",
    "for i in range(0,y0.size//d,d):\n",
    "    x_t = y[:,i]\n",
    "    y_t = y[:,i+1]\n",
    "    if x_min > x_t.min(): x_min = x_t.min()\n",
    "    if x_max < x_t.max(): x_max = x_t.max()\n",
    "    if y_min > y_t.min(): y_min = y_t.min()\n",
    "    if y_max < y_t.max(): y_max = y_t.max()\n",
    "\n",
    "    ph, =  ax.plot(x_t,y_t,'-',color=[.7,.7,.7],linewidth=.5) \n",
    "\n",
    "plt.xlim([1.2*x_min,1.2*x_max])\n",
    "plt.ylim([1.2*y_min,1.2*y_max])\n",
    "\n",
    "ax.axis('off')\n",
    "plt.show()"
   ]
  },
  {
   "cell_type": "markdown",
   "metadata": {},
   "source": [
    "### Euler Initial Conditions Analysis ###\n",
    "These initial conditions require a $\\Delta t$ of 0.0025 to acheive repeatable orbits for 100 time steps"
   ]
  },
  {
   "cell_type": "markdown",
   "metadata": {},
   "source": [
    "# Montgomery Initial Conditions #"
   ]
  },
  {
   "cell_type": "code",
   "execution_count": 3,
   "metadata": {},
   "outputs": [
    {
     "data": {
      "image/png": "[encoded data removed]",
      "text/plain": [
       "<Figure size 360x360 with 1 Axes>"
      ]
     },
     "metadata": {
      "needs_background": "dark"
     },
     "output_type": "display_data"
    }
   ],
   "source": [
    "plt.style.use('dark_background')\n",
    "%matplotlib inline\n",
    "\n",
    "y0 = montgomery\n",
    "p  = p3\n",
    "d = p['dimension']\n",
    "dt = 0.01  # This is wrong - figure it out!\n",
    "t_span = [0,100]\n",
    "\n",
    "solver = ODESolver()\n",
    "t_s,y = solver.solve_ode(n_body,t_span, y0, solver.EulerRichardson, p,first_step=dt)\n",
    "\n",
    "fig = plt.figure(figsize=(5,5))\n",
    "ax = fig.add_subplot(111)\n",
    "\n",
    "x_min,x_max,y_min,y_max = 1e9,-1e9,1e9,-1e9\n",
    "for i in range(0,y0.size//d,d):\n",
    "    x_t = y[:,i]\n",
    "    y_t = y[:,i+1]\n",
    "    if x_min > x_t.min(): x_min = x_t.min()\n",
    "    if x_max < x_t.max(): x_max = x_t.max()\n",
    "    if y_min > y_t.min(): y_min = y_t.min()\n",
    "    if y_max < y_t.max(): y_max = y_t.max()\n",
    "\n",
    "    ph, =  ax.plot(x_t,y_t,'-',color=[.7,.7,.7],linewidth=.5) \n",
    "\n",
    "plt.xlim([1.2*x_min,1.2*x_max])\n",
    "plt.ylim([1.2*y_min,1.2*y_max])\n",
    "\n",
    "ax.axis('off')\n",
    "plt.show()"
   ]
  },
  {
   "cell_type": "markdown",
   "metadata": {},
   "source": [
    "### Montgomery Initial Conditions Analysis ###\n",
    "These initial conditions require a $\\Delta t$ of 0.01 to acheive repeatable orbits for 100 time steps"
   ]
  },
  {
   "cell_type": "markdown",
   "metadata": {},
   "source": [
    "# Lagrange Initial Conditions #"
   ]
  },
  {
   "cell_type": "code",
   "execution_count": 4,
   "metadata": {},
   "outputs": [
    {
     "data": {
      "image/png": "[encoded data removed]",
      "text/plain": [
       "<Figure size 360x360 with 1 Axes>"
      ]
     },
     "metadata": {
      "needs_background": "dark"
     },
     "output_type": "display_data"
    }
   ],
   "source": [
    "plt.style.use('dark_background')\n",
    "%matplotlib inline\n",
    "\n",
    "y0 = lagrange\n",
    "p  = p3\n",
    "d = p['dimension']\n",
    "dt = 0.001  # This is wrong - figure it out!\n",
    "t_span = [0,100]\n",
    "\n",
    "solver = ODESolver()\n",
    "t_s,y = solver.solve_ode(n_body,t_span, y0, solver.EulerRichardson, p,first_step=dt)\n",
    "\n",
    "fig = plt.figure(figsize=(5,5))\n",
    "ax = fig.add_subplot(111)\n",
    "\n",
    "x_min,x_max,y_min,y_max = 1e9,-1e9,1e9,-1e9\n",
    "for i in range(0,y0.size//d,d):\n",
    "    x_t = y[:,i]\n",
    "    y_t = y[:,i+1]\n",
    "    if x_min > x_t.min(): x_min = x_t.min()\n",
    "    if x_max < x_t.max(): x_max = x_t.max()\n",
    "    if y_min > y_t.min(): y_min = y_t.min()\n",
    "    if y_max < y_t.max(): y_max = y_t.max()\n",
    "\n",
    "    ph, =  ax.plot(x_t,y_t,'-',color=[.7,.7,.7],linewidth=.5) \n",
    "\n",
    "plt.xlim([1.2*x_min,1.2*x_max])\n",
    "plt.ylim([1.2*y_min,1.2*y_max])\n",
    "\n",
    "ax.axis('off')\n",
    "plt.show()"
   ]
  },
  {
   "cell_type": "markdown",
   "metadata": {},
   "source": [
    "### Lagrange Initial Conditions Analysis ###\n",
    "\n",
    "Even with a $\\Delta t$ of 0.0001 I wasn't able to achieve a repetable orbit with 100 time steps."
   ]
  },
  {
   "cell_type": "markdown",
   "metadata": {},
   "source": [
    "# Euler Initial Conditions with Runge Kutta #"
   ]
  },
  {
   "cell_type": "code",
   "execution_count": 1,
   "metadata": {},
   "outputs": [
    {
     "ename": "NameError",
     "evalue": "name 'plt' is not defined",
     "output_type": "error",
     "traceback": [
      "\u001b[0;31m---------------------------------------------------------------------------\u001b[0m",
      "\u001b[0;31mNameError\u001b[0m                                 Traceback (most recent call last)",
      "\u001b[0;32m<ipython-input-1-89f820838f9d>\u001b[0m in \u001b[0;36m<module>\u001b[0;34m\u001b[0m\n\u001b[0;32m----> 1\u001b[0;31m \u001b[0mplt\u001b[0m\u001b[0;34m.\u001b[0m\u001b[0mstyle\u001b[0m\u001b[0;34m.\u001b[0m\u001b[0muse\u001b[0m\u001b[0;34m(\u001b[0m\u001b[0;34m'dark_background'\u001b[0m\u001b[0;34m)\u001b[0m\u001b[0;34m\u001b[0m\u001b[0;34m\u001b[0m\u001b[0m\n\u001b[0m\u001b[1;32m      2\u001b[0m \u001b[0mget_ipython\u001b[0m\u001b[0;34m(\u001b[0m\u001b[0;34m)\u001b[0m\u001b[0;34m.\u001b[0m\u001b[0mrun_line_magic\u001b[0m\u001b[0;34m(\u001b[0m\u001b[0;34m'matplotlib'\u001b[0m\u001b[0;34m,\u001b[0m \u001b[0;34m'inline'\u001b[0m\u001b[0;34m)\u001b[0m\u001b[0;34m\u001b[0m\u001b[0;34m\u001b[0m\u001b[0m\n\u001b[1;32m      3\u001b[0m \u001b[0;34m\u001b[0m\u001b[0m\n\u001b[1;32m      4\u001b[0m \u001b[0my0\u001b[0m \u001b[0;34m=\u001b[0m \u001b[0meuler\u001b[0m\u001b[0;34m\u001b[0m\u001b[0;34m\u001b[0m\u001b[0m\n\u001b[1;32m      5\u001b[0m \u001b[0mp\u001b[0m  \u001b[0;34m=\u001b[0m \u001b[0mp3\u001b[0m\u001b[0;34m\u001b[0m\u001b[0;34m\u001b[0m\u001b[0m\n",
      "\u001b[0;31mNameError\u001b[0m: name 'plt' is not defined"
     ]
    }
   ],
   "source": [
    "plt.style.use('dark_background')\n",
    "%matplotlib inline\n",
    "\n",
    "y0 = euler\n",
    "p  = p3\n",
    "d = p['dimension']\n",
    "dt = 0.01  # This is wrong - figure it out!\n",
    "t_span = [0,100]\n",
    "\n",
    "solver = ODESolver()\n",
    "t_s,y = solver.solve_ode(n_body,t_span, y0, solver.RungeKutta4, p,first_step=dt)\n",
    "\n",
    "fig = plt.figure(figsize=(5,5))\n",
    "ax = fig.add_subplot(111)\n",
    "\n",
    "x_min,x_max,y_min,y_max = 1e9,-1e9,1e9,-1e9\n",
    "for i in range(0,y0.size//d,d):\n",
    "    x_t = y[:,i]\n",
    "    y_t = y[:,i+1]\n",
    "    if x_min > x_t.min(): x_min = x_t.min()\n",
    "    if x_max < x_t.max(): x_max = x_t.max()\n",
    "    if y_min > y_t.min(): y_min = y_t.min()\n",
    "    if y_max < y_t.max(): y_max = y_t.max()\n",
    "\n",
    "    ph, =  ax.plot(x_t,y_t,'-',color=[.7,.7,.7],linewidth=.5) \n",
    "\n",
    "plt.xlim([1.2*x_min,1.2*x_max])\n",
    "plt.ylim([1.2*y_min,1.2*y_max])\n",
    "\n",
    "ax.axis('off')\n",
    "plt.show()"
   ]
  },
  {
   "cell_type": "markdown",
   "metadata": {},
   "source": [
    "### Euler with Runge Kutta ###\n",
    "Despite the increased accuracy, the solution is worse both in terms of $\\Delta t$ and the number of function calls. Even with half the $\\Delta t$ as in the EulerRichardson method the orbit is just borderline repeatable, and the number of function calls is doubled."
   ]
  },
  {
   "cell_type": "markdown",
   "metadata": {},
   "source": [
    "# Montgomery Initial Conditions with Runge Kutta #"
   ]
  },
  {
   "cell_type": "code",
   "execution_count": 7,
   "metadata": {},
   "outputs": [
    {
     "data": {
      "image/png": "[encoded data removed]",
      "text/plain": [
       "<Figure size 360x360 with 1 Axes>"
      ]
     },
     "metadata": {
      "needs_background": "dark"
     },
     "output_type": "display_data"
    }
   ],
   "source": [
    "plt.style.use('dark_background')\n",
    "%matplotlib inline\n",
    "\n",
    "y0 = montgomery\n",
    "p  = p3\n",
    "d = p['dimension']\n",
    "dt = 0.1  # This is wrong - figure it out!\n",
    "t_span = [0,100]\n",
    "\n",
    "solver = ODESolver()\n",
    "t_s,y = solver.solve_ode(n_body,t_span, y0, solver.RungeKutta4, p,first_step=dt)\n",
    "\n",
    "fig = plt.figure(figsize=(5,5))\n",
    "ax = fig.add_subplot(111)\n",
    "\n",
    "x_min,x_max,y_min,y_max = 1e9,-1e9,1e9,-1e9\n",
    "for i in range(0,y0.size//d,d):\n",
    "    x_t = y[:,i]\n",
    "    y_t = y[:,i+1]\n",
    "    if x_min > x_t.min(): x_min = x_t.min()\n",
    "    if x_max < x_t.max(): x_max = x_t.max()\n",
    "    if y_min > y_t.min(): y_min = y_t.min()\n",
    "    if y_max < y_t.max(): y_max = y_t.max()\n",
    "\n",
    "    ph, =  ax.plot(x_t,y_t,'-',color=[.7,.7,.7],linewidth=.5) \n",
    "\n",
    "plt.xlim([1.2*x_min,1.2*x_max])\n",
    "plt.ylim([1.2*y_min,1.2*y_max])\n",
    "\n",
    "ax.axis('off')\n",
    "plt.show()"
   ]
  },
  {
   "cell_type": "markdown",
   "metadata": {},
   "source": [
    "### Montgomery I.C.s with Runge Kutta Analysis ###\n",
    "Similarly, the Montgomery initial conditions with Runge Kutta require a $\\Delta t$ of at least half of what the Euler Richardson method requires for repeatable orbits."
   ]
  },
  {
   "cell_type": "markdown",
   "metadata": {},
   "source": [
    "# Lagrange Initial Conditions with Runge Kutta #"
   ]
  },
  {
   "cell_type": "code",
   "execution_count": 6,
   "metadata": {},
   "outputs": [
    {
     "data": {
      "image/png": "[encoded data removed]",
      "text/plain": [
       "<Figure size 360x360 with 1 Axes>"
      ]
     },
     "metadata": {
      "needs_background": "dark"
     },
     "output_type": "display_data"
    }
   ],
   "source": [
    "plt.style.use('dark_background')\n",
    "%matplotlib inline\n",
    "\n",
    "y0 = lagrange\n",
    "p  = p3\n",
    "d = p['dimension']\n",
    "dt = 0.01  # This is wrong - figure it out!\n",
    "t_span = [0,100]\n",
    "\n",
    "solver = ODESolver()\n",
    "t_s,y = solver.solve_ode(n_body,t_span, y0, solver.RungeKutta4, p,first_step=dt)\n",
    "\n",
    "fig = plt.figure(figsize=(5,5))\n",
    "ax = fig.add_subplot(111)\n",
    "\n",
    "x_min,x_max,y_min,y_max = 1e9,-1e9,1e9,-1e9\n",
    "for i in range(0,y0.size//d,d):\n",
    "    x_t = y[:,i]\n",
    "    y_t = y[:,i+1]\n",
    "    if x_min > x_t.min(): x_min = x_t.min()\n",
    "    if x_max < x_t.max(): x_max = x_t.max()\n",
    "    if y_min > y_t.min(): y_min = y_t.min()\n",
    "    if y_max < y_t.max(): y_max = y_t.max()\n",
    "\n",
    "    ph, =  ax.plot(x_t,y_t,'-',color=[.7,.7,.7],linewidth=.5) \n",
    "\n",
    "plt.xlim([1.2*x_min,1.2*x_max])\n",
    "plt.ylim([1.2*y_min,1.2*y_max])\n",
    "\n",
    "ax.axis('off')\n",
    "plt.show()"
   ]
  },
  {
   "cell_type": "markdown",
   "metadata": {},
   "source": [
    "### Lagrange Initial Conditions with Runge Kutta Analysis ###\n",
    "Given what we saw with the values for $\\Delta t$ with the Euler Richardson method, and what we've seen with needing lower values of $\\Delta t$ for Runge Kutta, I am also unable to find a low enough value for $\\Delta t$ that results in a stable system of orbits."
   ]
  },
  {
   "cell_type": "markdown",
   "metadata": {},
   "source": [
    "# In conclusion... #\n",
    "\n",
    "I think there may be something useful in this whole adaptive time step business..."
   ]
  },
  {
   "cell_type": "code",
   "execution_count": null,
   "metadata": {},
   "outputs": [],
   "source": []
  }
 ],
 "metadata": {
  "kernelspec": {
   "display_name": "Python 3",
   "language": "python",
   "name": "python3"
  },
  "language_info": {
   "codemirror_mode": {
    "name": "ipython",
    "version": 3
   },
   "file_extension": ".py",
   "mimetype": "text/x-python",
   "name": "python",
   "nbconvert_exporter": "python",
   "pygments_lexer": "ipython3",
   "version": "3.9.2"
  }
 },
 "nbformat": 4,
 "nbformat_minor": 4
}
